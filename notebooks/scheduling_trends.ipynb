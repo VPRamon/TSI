{
 "cells": [
  {
   "cell_type": "markdown",
   "id": "688461b3",
   "metadata": {},
   "source": [
    "# Scheduling Trends Analysis\n",
    "\n",
    "This notebook replicates the calculations and charts from the **\"Scheduling Trends\"** section of the Streamlit app.\n",
    "\n",
    "## Objective\n",
    "\n",
    "Analyze the **probability that an observation will be scheduled** based on:\n",
    "- **Priority** (numeric)\n",
    "- **Visibility** (total visibility hours)\n",
    "- **Required time** (requested hours)\n",
    "\n",
    "We include **interaction terms** to capture combined effects (e.g., if visibility = 0, the probability should be ~0 regardless of priority)."
   ]
  },
  {
   "cell_type": "code",
   "execution_count": null,
   "id": "612def0b",
   "metadata": {},
   "outputs": [],
   "source": [
    "# Imports\n",
    "import sys\n",
    "from pathlib import Path\n",
    "\n",
    "import pandas as pd\n",
    "import numpy as np\n",
    "import matplotlib.pyplot as plt\n",
    "import plotly.express as px\n",
    "import plotly.graph_objects as go\n",
    "from sklearn.metrics import roc_auc_score, accuracy_score, confusion_matrix\n",
    "\n",
    "# Add src directory to path\n",
    "project_root = Path().cwd().parent if 'notebooks' in str(Path().cwd()) else Path().cwd()\n",
    "sys.path.insert(0, str(project_root / 'src'))\n",
    "\n",
    "from tsi.modeling.tendencias import (\n",
    "    compute_empirical_rates,\n",
    "    smooth_trend,\n",
    "    fit_logistic_with_interactions,\n",
    "    predict_probs,\n",
    "    create_prediction_grid,\n",
    ")\n",
    "from tsi.plots.tendencias import (\n",
    "    bar_rate_by_priority,\n",
    "    loess_trend,\n",
    "    heatmap_visibility_priority,\n",
    "    pred_curve_vs_visibility,\n",
    ")\n",
    "\n",
    "print(\"✅ Imports completed\")"
   ]
  },
  {
   "cell_type": "markdown",
   "id": "48f4c3ab",
   "metadata": {},
   "source": [
    "## 1. Data Loading\n",
    "\n",
    "We load the preprocessed sample dataset. This CSV is generated from JSON files using the `preprocess_schedules.py` script."
   ]
  },
  {
   "cell_type": "code",
   "execution_count": null,
   "id": "cbf97a31",
   "metadata": {},
   "outputs": [],
   "source": [
    "# Load sample data from the preprocessed CSV\n",
    "data_path = project_root / 'data' / 'schedule.csv'\n",
    "\n",
    "if not data_path.exists():\n",
    "    raise FileNotFoundError(\n",
    "        f\"⚠️ Sample data file not found: {data_path}\\n\"\n",
    "        f\"To create it, run: python preprocess_schedules.py --schedule data/schedule.json --visibility data/possible_periods.json --output {data_path}\"\n",
    "    )\n",
    "\n",
    "df_raw = pd.read_csv(data_path)\n",
    "print(f\"✅ Data loaded: {len(df_raw)} rows, {len(df_raw.columns)} columns\")\n",
    "print(f\"Source: {data_path.name}\")"
   ]
  },
  {
   "cell_type": "code",
   "execution_count": null,
   "id": "3c89c147",
   "metadata": {},
   "outputs": [],
   "source": [
    "# Prepare data (similar to what the app does)\n",
    "df = df_raw.copy()\n",
    "\n",
    "# Normalize columns (adjust according to actual schema)\n",
    "# The app uses 'scheduled_flag', 'requested_hours', etc.\n",
    "\n",
    "# If CSV doesn't have 'requested_hours', create it\n",
    "if 'requestedDurationSec' in df.columns and 'requested_hours' not in df.columns:\n",
    "    df['requested_hours'] = df['requestedDurationSec'] / 3600.0\n",
    "\n",
    "# Verify required columns\n",
    "required_cols = ['priority', 'total_visibility_hours', 'requested_hours', 'scheduled_flag']\n",
    "missing = [col for col in required_cols if col not in df.columns]\n",
    "\n",
    "if missing:\n",
    "    print(f\"❌ Missing columns: {missing}\")\n",
    "    print(\"\\nAvailable columns:\")\n",
    "    print(df.columns.tolist())\n",
    "else:\n",
    "    print(\"✅ All required columns are present\")\n",
    "    print(f\"\\nData summary:\")\n",
    "    print(df[required_cols].describe())"
   ]
  },
  {
   "cell_type": "markdown",
   "id": "6b6421e7",
   "metadata": {},
   "source": [
    "## 2. Exploratory Analysis\n",
    "\n",
    "We verify distributions and key values."
   ]
  },
  {
   "cell_type": "code",
   "execution_count": null,
   "id": "29a90260",
   "metadata": {},
   "outputs": [],
   "source": [
    "# Basic statistics\n",
    "print(\"=\" * 60)\n",
    "print(\"BASIC STATISTICS\")\n",
    "print(\"=\" * 60)\n",
    "\n",
    "total_obs = len(df)\n",
    "n_scheduled = df['scheduled_flag'].sum()\n",
    "rate_scheduled = n_scheduled / total_obs * 100\n",
    "n_zero_vis = (df['total_visibility_hours'] == 0).sum()\n",
    "\n",
    "print(f\"Total observations: {total_obs:,}\")\n",
    "print(f\"Scheduled: {n_scheduled:,} ({rate_scheduled:.1f}%)\")\n",
    "print(f\"Unscheduled: {total_obs - n_scheduled:,}\")\n",
    "print(f\"Visibility = 0: {n_zero_vis:,} ({n_zero_vis/total_obs*100:.1f}%)\")\n",
    "\n",
    "print(f\"\\nPriority: min={df['priority'].min():.1f}, max={df['priority'].max():.1f}, mean={df['priority'].mean():.2f}\")\n",
    "print(f\"Visibility: min={df['total_visibility_hours'].min():.1f}, max={df['total_visibility_hours'].max():.1f}, mean={df['total_visibility_hours'].mean():.2f}\")\n",
    "print(f\"Required time: min={df['requested_hours'].min():.2f}, max={df['requested_hours'].max():.2f}, mean={df['requested_hours'].mean():.2f}\")"
   ]
  },
  {
   "cell_type": "markdown",
   "id": "68386190",
   "metadata": {},
   "source": [
    "## 3. Empirical Rates by Priority\n",
    "\n",
    "We calculate the scheduling rate for each priority level."
   ]
  },
  {
   "cell_type": "code",
   "execution_count": null,
   "id": "320e654b",
   "metadata": {},
   "outputs": [],
   "source": [
    "# Calculate empirical rates\n",
    "empirical = compute_empirical_rates(df, n_bins=10)\n",
    "\n",
    "print(\"Empirical rates by priority:\")\n",
    "print(empirical.by_priority)\n",
    "\n",
    "# Chart\n",
    "fig = bar_rate_by_priority(\n",
    "    empirical.by_priority,\n",
    "    library='plotly',\n",
    "    title='Scheduling rate by priority',\n",
    ")\n",
    "fig.show()"
   ]
  },
  {
   "cell_type": "markdown",
   "id": "a565cf93",
   "metadata": {},
   "source": [
    "**Observations:**\n",
    "- Observations with higher priority have higher scheduling rates.\n",
    "- Sample size (n) varies between priority levels."
   ]
  },
  {
   "cell_type": "markdown",
   "id": "3a7137f0",
   "metadata": {},
   "source": [
    "## 4. Smoothed Trends\n",
    "\n",
    "We apply smoothing (weighted moving average) to see continuous trends."
   ]
  },
  {
   "cell_type": "code",
   "execution_count": null,
   "id": "e791abda",
   "metadata": {},
   "outputs": [],
   "source": [
    "# Trend: visibility → scheduling rate\n",
    "smooth_vis = smooth_trend(\n",
    "    df,\n",
    "    x_col='total_visibility_hours',\n",
    "    y_col='scheduled_flag',\n",
    "    bandwidth=0.3,\n",
    ")\n",
    "\n",
    "fig_vis = loess_trend(\n",
    "    smooth_vis,\n",
    "    library='plotly',\n",
    "    title='Smoothed trend: Visibility',\n",
    "    x_label='Visibility (hours)',\n",
    ")\n",
    "fig_vis.show()"
   ]
  },
  {
   "cell_type": "code",
   "execution_count": null,
   "id": "da7d83fc",
   "metadata": {},
   "outputs": [],
   "source": [
    "# Trend: required time → scheduling rate\n",
    "smooth_time = smooth_trend(\n",
    "    df,\n",
    "    x_col='requested_hours',\n",
    "    y_col='scheduled_flag',\n",
    "    bandwidth=0.3,\n",
    ")\n",
    "\n",
    "fig_time = loess_trend(\n",
    "    smooth_time,\n",
    "    library='plotly',\n",
    "    title='Smoothed trend: Required time',\n",
    "    x_label='Required time (hours)',\n",
    ")\n",
    "fig_time.show()"
   ]
  },
  {
   "cell_type": "markdown",
   "id": "ae20812a",
   "metadata": {},
   "source": [
    "**Observations:**\n",
    "- Visibility shows a positive relationship with scheduling rate.\n",
    "- Required time may show a non-linear relationship (very long observations are less likely to be scheduled)."
   ]
  },
  {
   "cell_type": "markdown",
   "id": "291bf382",
   "metadata": {},
   "source": [
    "## 5. 2D Heatmap: Visibility × Priority\n",
    "\n",
    "We visualize the interaction between visibility and priority."
   ]
  },
  {
   "cell_type": "code",
   "execution_count": null,
   "id": "fe9e52b2",
   "metadata": {},
   "outputs": [],
   "source": [
    "fig_heatmap = heatmap_visibility_priority(\n",
    "    df,\n",
    "    library='plotly',\n",
    "    n_bins_vis=10,\n",
    "    n_bins_priority=10,\n",
    ")\n",
    "fig_heatmap.show()"
   ]
  },
  {
   "cell_type": "markdown",
   "id": "047b1444",
   "metadata": {},
   "source": [
    "**Observations:**\n",
    "- The upper right corner (high priority + high visibility) shows the highest rates.\n",
    "- When visibility is low, even with high priority, the rate is low."
   ]
  },
  {
   "cell_type": "markdown",
   "id": "00dcc9b9",
   "metadata": {},
   "source": [
    "## 6. Logistic Model with Interactions\n",
    "\n",
    "### 6.1 Decision: Exclude visibility = 0?\n",
    "\n",
    "**Justification:**\n",
    "- Observations with visibility = 0 **can never be scheduled** (not visible from the telescope).\n",
    "- Including them in training can bias the model.\n",
    "- **Decision:** Exclude them from training, but show their behavior in empirical charts."
   ]
  },
  {
   "cell_type": "code",
   "execution_count": null,
   "id": "b65f5021",
   "metadata": {},
   "outputs": [],
   "source": [
    "# Train model WITHOUT visibility = 0\n",
    "print(\"=\" * 60)\n",
    "print(\"LOGISTIC MODEL WITH INTERACTIONS\")\n",
    "print(\"=\" * 60)\n",
    "\n",
    "model_result = fit_logistic_with_interactions(\n",
    "    df,\n",
    "    exclude_zero_visibility=True,\n",
    "    class_weight='balanced',\n",
    ")\n",
    "\n",
    "print(f\"\\n✅ Model trained successfully\")\n",
    "print(f\"Samples: {model_result.n_samples:,}\")\n",
    "print(f\"Scheduled: {model_result.n_scheduled:,}\")\n",
    "print(f\"Accuracy: {model_result.accuracy:.3f}\")\n",
    "print(f\"AUC: {model_result.auc_score:.3f}\" if model_result.auc_score else \"AUC: N/A\")\n",
    "print(f\"\\nFeatures: {model_result.feature_names}\")"
   ]
  },
  {
   "cell_type": "markdown",
   "id": "44d0ee68",
   "metadata": {},
   "source": [
    "### 6.2 Interaction Terms\n",
    "\n",
    "The model includes:\n",
    "- `priority_num × visibility`\n",
    "- `visibility × required_time`\n",
    "- `priority_num × required_time`\n",
    "\n",
    "These terms capture combined effects (e.g., high priority only helps if there's visibility)."
   ]
  },
  {
   "cell_type": "markdown",
   "id": "ba0c9a7b",
   "metadata": {},
   "source": [
    "## 7. Model Predictions\n",
    "\n",
    "We generate predictions for different combinations of priority and visibility."
   ]
  },
  {
   "cell_type": "code",
   "execution_count": null,
   "id": "24763d9a",
   "metadata": {},
   "outputs": [],
   "source": [
    "# Create prediction grid\n",
    "vis_min = df['total_visibility_hours'].min()\n",
    "vis_max = df['total_visibility_hours'].max()\n",
    "priority_levels = sorted(df['priority'].dropna().unique())[:5]  # Top 5\n",
    "\n",
    "grid = create_prediction_grid(\n",
    "    visibility_range=(vis_min, vis_max),\n",
    "    priority_levels=priority_levels,\n",
    "    tiempo_requerido=df['requested_hours'].median(),\n",
    "    n_points=100,\n",
    ")\n",
    "\n",
    "# Predict\n",
    "grid_with_probs = predict_probs(grid, model_result)\n",
    "\n",
    "print(f\"Predictions generated: {len(grid_with_probs)} rows\")\n",
    "print(grid_with_probs.head())"
   ]
  },
  {
   "cell_type": "code",
   "execution_count": null,
   "id": "4851954c",
   "metadata": {},
   "outputs": [],
   "source": [
    "# Probability vs visibility chart\n",
    "fig_pred = pred_curve_vs_visibility(\n",
    "    grid_with_probs,\n",
    "    library='plotly',\n",
    "    tiempo_fijo=df['requested_hours'].median(),\n",
    ")\n",
    "fig_pred.show()"
   ]
  },
  {
   "cell_type": "markdown",
   "id": "fdc4bc3d",
   "metadata": {},
   "source": [
    "**Interpretation:**\n",
    "- The curves show how scheduling probability increases with visibility.\n",
    "- Higher priority levels have elevated curves.\n",
    "- When visibility ≈ 0, all curves converge to low probability (~0), confirming the interaction capture."
   ]
  },
  {
   "cell_type": "markdown",
   "id": "ea3310f1",
   "metadata": {},
   "source": [
    "## 8. Model Validation\n",
    "\n",
    "We evaluate the model with additional metrics."
   ]
  },
  {
   "cell_type": "code",
   "execution_count": null,
   "id": "90589bb1",
   "metadata": {},
   "outputs": [],
   "source": [
    "# Predictions on training set\n",
    "df_train = df[df['total_visibility_hours'] > 0].copy()  # Same data used in training\n",
    "df_train_pred = predict_probs(df_train, model_result)\n",
    "\n",
    "y_true = df_train_pred['scheduled_flag'].astype(int).values\n",
    "y_pred_proba = df_train_pred['prob_planificada'].values\n",
    "y_pred = (y_pred_proba > 0.5).astype(int)\n",
    "\n",
    "# Metrics\n",
    "acc = accuracy_score(y_true, y_pred)\n",
    "auc = roc_auc_score(y_true, y_pred_proba)\n",
    "cm = confusion_matrix(y_true, y_pred)\n",
    "\n",
    "print(\"=\" * 60)\n",
    "print(\"VALIDATION METRICS\")\n",
    "print(\"=\" * 60)\n",
    "print(f\"Accuracy: {acc:.3f}\")\n",
    "print(f\"AUC: {auc:.3f}\")\n",
    "print(f\"\\nConfusion Matrix:\")\n",
    "print(cm)\n",
    "print(f\"\\nTrue Negatives: {cm[0, 0]}\")\n",
    "print(f\"False Positives: {cm[0, 1]}\")\n",
    "print(f\"False Negatives: {cm[1, 0]}\")\n",
    "print(f\"True Positives: {cm[1, 1]}\")"
   ]
  },
  {
   "cell_type": "markdown",
   "id": "22da6d92",
   "metadata": {},
   "source": [
    "## 9. Conclusions\n",
    "\n",
    "### Key Findings:\n",
    "1. **Priority:** Positive correlation with scheduling rate.\n",
    "2. **Visibility:** Critical factor - visibility = 0 implies probability ≈ 0.\n",
    "3. **Interactions:** Interaction terms correctly capture that high priority is only effective if there's visibility.\n",
    "4. **Required time:** Moderate effect - very long observations are less likely to be scheduled.\n",
    "\n",
    "### Technical Decisions:\n",
    "- **Exclusion of visibility = 0:** Justified for the model (impossible cases).\n",
    "- **Interaction terms:** Improve predictive capability by capturing combined effects.\n",
    "- **Balanced weighting:** Useful if classes are imbalanced.\n",
    "\n",
    "### Next Steps:\n",
    "- Temporal cross-validation (if data from multiple iterations exists).\n",
    "- Feature importance to quantify the impact of each variable.\n",
    "- Explore non-linear models (Random Forest, XGBoost) for comparison."
   ]
  }
 ],
 "metadata": {
  "kernelspec": {
   "display_name": "venv",
   "language": "python",
   "name": "python3"
  },
  "language_info": {
   "name": "python",
   "version": "3.12.3"
  }
 },
 "nbformat": 4,
 "nbformat_minor": 5
}
